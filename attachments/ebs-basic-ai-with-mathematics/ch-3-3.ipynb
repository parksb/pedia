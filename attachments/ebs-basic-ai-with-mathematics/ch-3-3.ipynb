{
 "cells": [
  {
   "cell_type": "markdown",
   "source": [
    "# 3.3. 냉장고가 아이스크림을 자동으로 주문해 준다면"
   ],
   "metadata": {
    "collapsed": false
   }
  },
  {
   "cell_type": "markdown",
   "source": [
    "## 3.3.1. 데이터 수집하기\n",
    "\n",
    "기상청의 공개 데이터와 네이버 데이터랩에서 기온 데이터, 아이스크림 쇼핑 클릭량 데이터를 수집한다."
   ],
   "metadata": {
    "collapsed": false
   }
  },
  {
   "cell_type": "markdown",
   "source": [
    "## 3.3.2. 데이터 불러오기"
   ],
   "metadata": {
    "collapsed": false
   }
  },
  {
   "cell_type": "code",
   "execution_count": 1,
   "outputs": [
    {
     "name": "stdout",
     "output_type": "stream",
     "text": [
      "[-2.1, -2.5, -2.1, -0.7, 0.2, -1.3, -0.5, -0.7, -2.9, 0.5, 2.1, 3.0, 1.3, 1.0, 0.9, -3.2, 0.4, 0.8, 2.9, 1.6, 0.5, 2.6, 3.1, 0.7, -0.4, -1.8, -0.2, 2.6, 0.0, 3.5, 0.3, -1.3, 2.1, 5.6, 2.5, 2.9, 5.6, 2.1, -2.0, -1.7, -1.4, -0.8, 0.1, 0.3, 0.6, 2.0, -0.3, -0.2, 2.2, 2.9, 2.8, 2.7, 3.9, 5.0, 6.1, 6.0, 5.4, 7.1, 6.8, 6.0, 6.9, 8.7, 8.8, 8.2, 8.8, 6.5, 6.1, 7.9, 7.8, 6.4, 5.8, 3.9, 5.2, 5.8, 5.8, 6.6, 7.5, 10.7, 11.4, 9.8, 5.2, 4.2, 4.7, 7.2, 10.5, 12.8, 10.6, 10.6, 7.2, 5.4, 5.7, 6.7, 7.4, 9.9, 11.7, 11.6, 12.5, 11.8, 9.3, 7.2, 8.8, 10.7, 11.6, 10.2, 11.1, 14.2, 15.5, 15.3, 12.8, 14.7, 16.5, 17.6, 16.8, 17.3, 13.5, 9.4, 11.4, 12.1, 11.3, 14.6, 15.4, 16.0, 16.7, 17.6, 18.9, 14.0, 13.9, 15.7, 17.1, 17.6, 18.5, 18.4, 17.9, 19.8, 20.3, 21.4, 21.3, 18.8, 19.5, 17.0, 17.0, 19.2, 20.9, 22.9, 23.3, 23.2, 18.6, 17.8, 19.7, 20.5, 18.6, 18.9, 20.6, 22.0, 23.1, 22.9, 21.1, 18.6, 20.1, 19.7, 18.3, 18.8, 19.7, 21.2, 20.2, 20.4, 20.2, 21.3, 21.3, 22.2, 23.4, 22.8, 21.7, 21.6, 22.5, 23.6, 21.1, 23.8, 23.6, 21.6, 23.8, 23.2, 23.4, 23.1, 24.4, 25.1, 25.1, 23.5, 22.6, 22.6, 20.9, 22.2, 23.2, 23.3, 23.9, 23.2, 23.8, 24.4, 24.3, 25.2, 24.8, 24.8, 27.0, 27.9, 26.8, 26.6, 26.5, 27.1, 26.9, 27.8, 28.4, 28.4, 28.4, 28.8, 28.3, 28.4, 28.8, 27.6, 27.2, 27.6, 28.3, 28.6, 28.3, 27.7, 28.5, 28.6, 26.1, 26.4, 26.2, 25.3, 25.1, 26.0, 25.8, 25.8, 24.7, 22.8, 23.2, 24.3, 22.7, 23.8, 22.4, 22.9, 22.6, 22.1, 21.6, 22.1, 23.4, 24.2, 25.4, 25.8, 24.6, 24.7, 25.4, 23.9, 20.8, 21.7, 22.3, 23.4, 22.4, 21.3, 21.0, 19.2, 19.3, 17.8, 17.5, 18.1, 17.8, 18.4, 20.4, 21.4, 22.5, 22.2, 21.6, 21.5, 21.1, 22.0, 21.2, 18.9, 17.3, 15.5, 15.9, 13.3, 14.9, 17.9, 18.0, 15.9, 14.7, 13.3, 13.3, 14.0, 15.3, 16.2, 15.1, 15.3, 15.9, 16.0, 17.4, 16.9, 12.8, 10.7, 11.5, 13.2, 11.3, 13.3, 14.3, 13.5, 13.8, 12.5, 11.7, 11.3, 10.8, 7.8, 8.5, 9.4, 12.1, 9.7, 8.9, 3.7, 7.2, 10.3, 11.0, 8.7, 3.7, 2.6, 5.0, 9.3, 10.8, 12.8, 5.9, 7.7, 6.2, 4.7, 3.4, 5.4, 6.3, 3.6, 2.4, 4.2, 0.2, -3.2, 0.1, 1.4, 3.0, 6.5, 6.9, 1.7, 1.6, 4.0, 4.7, 7.1, 8.3, 4.6, 2.2, 1.0, 0.2, 3.0, 3.8, 2.1, 3.5, 3.7, 0.6, 0.5, 2.6, 5.0, -3.8]\n",
      "[27.0, 27.0, 25.0, 25.0, 26.0, 30.0, 29.0, 28.0, 27.0, 27.0, 27.0, 25.0, 30.0, 31.0, 34.0, 33.0, 29.0, 26.0, 26.0, 32.0, 33.0, 31.0, 32.0, 28.0, 25.0, 24.0, 29.0, 30.0, 27.0, 24.0, 21.0, 20.0, 21.0, 21.0, 22.0, 22.0, 28.0, 33.0, 32.0, 31.0, 34.0, 34.0, 30.0, 27.0, 26.0, 23.0, 26.0, 31.0, 32.0, 31.0, 28.0, 28.0, 29.0, 30.0, 32.0, 32.0, 29.0, 28.0, 28.0, 27.0, 28.0, 31.0, 28.0, 27.0, 31.0, 25.0, 24.0, 28.0, 33.0, 30.0, 28.0, 29.0, 28.0, 23.0, 24.0, 27.0, 28.0, 28.0, 31.0, 28.0, 25.0, 26.0, 32.0, 34.0, 35.0, 31.0, 31.0, 24.0, 26.0, 32.0, 31.0, 32.0, 32.0, 32.0, 27.0, 27.0, 32.0, 34.0, 33.0, 32.0, 31.0, 29.0, 27.0, 37.0, 38.0, 37.0, 36.0, 36.0, 31.0, 29.0, 35.0, 47.0, 43.0, 44.0, 42.0, 35.0, 31.0, 37.0, 44.0, 41.0, 56.0, 46.0, 39.0, 35.0, 37.0, 47.0, 52.0, 51.0, 51.0, 48.0, 54.0, 77.0, 81.0, 87.0, 90.0, 100.0, 72.0, 67.0, 77.0, 76.0, 75.0, 89.0, 96.0, 75.0, 67.0, 84.0, 99.0, 91.0, 86.0, 77.0, 60.0, 63.0, 78.0, 95.0, 88.0, 73.0, 81.0, 69.0, 67.0, 75.0, 80.0, 79.0, 75.0, 71.0, 66.0, 57.0, 68.0, 78.0, 76.0, 68.0, 67.0, 63.0, 56.0, 66.0, 81.0, 79.0, 67.0, 64.0, 54.0, 52.0, 64.0, 70.0, 83.0, 75.0, 69.0, 61.0, 57.0, 68.0, 75.0, 68.0, 66.0, 63.0, 55.0, 53.0, 62.0, 69.0, 66.0, 65.0, 62.0, 61.0, 57.0, 61.0, 73.0, 77.0, 69.0, 74.0, 63.0, 52.0, 57.0, 65.0, 65.0, 61.0, 66.0, 56.0, 54.0, 64.0, 72.0, 75.0, 69.0, 69.0, 61.0, 49.0, 56.0, 62.0, 60.0, 53.0, 49.0, 53.0, 41.0, 50.0, 55.0, 53.0, 47.0, 47.0, 41.0, 37.0, 44.0, 45.0, 43.0, 47.0, 40.0, 34.0, 32.0, 41.0, 42.0, 39.0, 35.0, 36.0, 36.0, 33.0, 37.0, 35.0, 26.0, 22.0, 23.0, 28.0, 29.0, 38.0, 39.0, 38.0, 36.0, 32.0, 28.0, 29.0, 35.0, 33.0, 34.0, 32.0, 31.0, 27.0, 28.0, 35.0, 36.0, 34.0, 32.0, 35.0, 31.0, 27.0, 33.0, 32.0, 30.0, 32.0, 29.0, 28.0, 28.0, 33.0, 31.0, 32.0, 32.0, 29.0, 27.0, 28.0, 31.0, 34.0, 32.0, 32.0, 32.0, 25.0, 24.0, 30.0, 33.0, 29.0, 28.0, 25.0, 23.0, 25.0, 32.0, 31.0, 30.0, 32.0, 27.0, 22.0, 22.0, 29.0, 27.0, 28.0, 29.0, 24.0, 21.0, 21.0, 29.0, 29.0, 29.0, 30.0, 27.0, 26.0, 25.0, 32.0, 30.0, 31.0, 30.0, 28.0, 24.0, 24.0, 31.0, 33.0, 30.0, 28.0, 26.0, 24.0, 25.0, 39.0, 33.0, 30.0, 30.0, 30.0, 28.0, 30.0, 35.0, 35.0, 35.0, 33.0, 31.0, 25.0, 25.0, 31.0, 29.0, 22.0, 24.0, 26.0, 24.0, 25.0, 29.0, 28.0, 22.0]\n"
     ]
    }
   ],
   "source": [
    "import csv\n",
    "\n",
    "f = open('temp_ice.csv', encoding='euc-kr')\n",
    "data = csv.reader(f)\n",
    "header = next(data)\n",
    "\n",
    "temp = []\n",
    "ice = []\n",
    "\n",
    "for row in data:\n",
    "    temp.append(float(row[1]))\n",
    "    ice.append(float(row[4]))\n",
    "\n",
    "print(temp)\n",
    "print(ice)"
   ],
   "metadata": {
    "collapsed": false,
    "pycharm": {
     "name": "#%%\n"
    }
   }
  },
  {
   "cell_type": "markdown",
   "source": [
    "## 3.3.2. 데이터 다루기"
   ],
   "metadata": {
    "collapsed": false
   }
  },
  {
   "cell_type": "markdown",
   "source": [
    "* 변량 - 기온이나 점수, 나이 등과 같이 자료를 수량으로 나타낸 것.\n",
    "* 계급 - -6.0 이상 ~ 0.0 미만 등과 같이 변량을 일정한 간격으로 나눈 구간.\n",
    "* 계급의 크기 - 계급 구간의 너비.\n",
    "  * 자료의 최댓값과 최솟값을 구한 후, 그 차를 계급의 개수로 나누어 구한다.\n",
    "* 도수 - 각 계급에 속하는 자료의 수.\n",
    "* 도수분포표 - 데이터를 계급과 도수로 나타낸 표.\n",
    "  * 율(Yule)의 방법 - 경험적인 방법으로 계급 수를 보통 5~15개 정도로 잡는다.\n",
    "  * 스터지(Sturges) 방법 - 자료 전체의 수를 N개, 계급의 수를 K개라고 할 때, $K \\fallingdotseq 1 + log_2N$\n",
    "* 계급값 - 각 계급의 가운데 값, $\\text{(class mark)} = {\\text{(sum of values both ends of class)} \\over 2}$"
   ],
   "metadata": {
    "collapsed": false,
    "pycharm": {
     "name": "#%% md\n"
    }
   }
  },
  {
   "cell_type": "code",
   "execution_count": 5,
   "outputs": [
    {
     "name": "stdout",
     "output_type": "stream",
     "text": [
      "[40 63 50 49 57 80 26]\n",
      "[-3.8  1.2  6.2 11.2 16.2 21.2 26.2 31.2]\n"
     ]
    }
   ],
   "source": [
    "import numpy as np\n",
    "\n",
    "bins = np.arange(min(temp), max(temp) + 5, 5)\n",
    "hist, _ = np.histogram(temp,bins)\n",
    "print(hist)\n",
    "print(bins)"
   ],
   "metadata": {
    "collapsed": false,
    "pycharm": {
     "name": "#%%\n"
    }
   }
  },
  {
   "cell_type": "code",
   "execution_count": 7,
   "outputs": [
    {
     "name": "stdout",
     "output_type": "stream",
     "text": [
      "[1098. 1782. 1469. 1632. 3198. 4337. 1616.]\n"
     ]
    }
   ],
   "source": [
    "ice_buy = np.zeros(7)\n",
    "\n",
    "for i in range(0, len(temp)):\n",
    "    for j in range(0, len(bins)):\n",
    "        if j == len(bins):\n",
    "            ice_buy[j] = ice_buy[j] + ice[i]\n",
    "        elif bins[j] <= temp[i] < bins[j + 1]:\n",
    "            ice_buy[j] = ice_buy[j] + ice[i]\n",
    "\n",
    "print(ice_buy)"
   ],
   "metadata": {
    "collapsed": false,
    "pycharm": {
     "name": "#%%\n"
    }
   }
  },
  {
   "cell_type": "code",
   "execution_count": 10,
   "outputs": [
    {
     "name": "stdout",
     "output_type": "stream",
     "text": [
      "27.45\n",
      "28.29\n",
      "29.38\n",
      "33.31\n",
      "56.11\n",
      "54.21\n",
      "62.15\n"
     ]
    }
   ],
   "source": [
    "ice_buy_a = np.zeros(7)\n",
    "\n",
    "for i in range(0, len(ice_buy)):\n",
    "    ice_buy_a[i] = ice_buy[i] / hist[i]\n",
    "    print('%0.2f' % ice_buy_a[i])"
   ],
   "metadata": {
    "collapsed": false,
    "pycharm": {
     "name": "#%%\n"
    }
   }
  },
  {
   "cell_type": "markdown",
   "source": [
    "## 3.3.4. 데이터 시각화하기"
   ],
   "metadata": {
    "collapsed": false
   }
  },
  {
   "cell_type": "code",
   "execution_count": 11,
   "outputs": [
    {
     "name": "stdout",
     "output_type": "stream",
     "text": [
      "[-3.8  1.2  6.2 11.2 16.2 21.2 26.2 31.2]\n",
      "[-3.8  1.2  6.2 11.2 16.2 21.2 26.2]\n"
     ]
    },
    {
     "data": {
      "text/plain": "<Figure size 432x288 with 1 Axes>",
      "image/png": "[encoded data removed]"
     },
     "metadata": {
      "needs_background": "light"
     },
     "output_type": "display_data"
    }
   ],
   "source": [
    "import matplotlib.pyplot as plt\n",
    "\n",
    "plt.xlabel('Avg temperature')\n",
    "plt.ylabel('Num of ice cream shopping')\n",
    "plt.bar(bins[0:7], ice_buy_a, width=2, align='edge')\n",
    "plt.xticks(bins[0:7])\n",
    "plt.show()"
   ],
   "metadata": {
    "collapsed": false,
    "pycharm": {
     "name": "#%%\n"
    }
   }
  },
  {
   "cell_type": "code",
   "execution_count": 12,
   "outputs": [
    {
     "data": {
      "text/plain": "<Figure size 432x288 with 1 Axes>",
      "image/png": "[encoded data removed]"
     },
     "metadata": {
      "needs_background": "light"
     },
     "output_type": "display_data"
    }
   ],
   "source": [
    "plt.scatter(temp, ice)\n",
    "plt.show()"
   ],
   "metadata": {
    "collapsed": false,
    "pycharm": {
     "name": "#%%\n"
    }
   }
  },
  {
   "cell_type": "markdown",
   "source": [
    "* 상관관계 - 일정한 수치로 계산되어 두 대상이 서로 관련성이 있다고 추측되는 관계.\n",
    "* 상관도 - 두 변량의 값을 좌표평면 위에 나타낸 그림.\n",
    "* 상관계수 - 두 변수 사이의 직선적인 관련 정도를 측정하기 위한 통계량.\n",
    "  * 상관계수는 항상 `-1`과 `1` 사이의 값을 갖는다.\n",
    "  * $r \\gt 0$ - 양의 상관관계. 한쪽 변수가 증가할 때 다른 쪽 변수도 증가하는 경향.\n",
    "  * $r \\lt 0$ - 음의 상관관계. 한쪽 변수가 증가할 때 다른 쪽 변수는 감소하는 경향.\n",
    "  * $r = 0$ - 두 변수는 무상관.\n",
    "\n",
    "![](https://user-images.githubusercontent.com/6410412/106375195-73f7d780-63cd-11eb-941d-3a8ad6e7b11f.png)"
   ],
   "metadata": {
    "collapsed": false,
    "pycharm": {
     "name": "#%% md\n"
    }
   }
  },
  {
   "cell_type": "markdown",
   "source": [
    "## 3.3.5. 학습하기"
   ],
   "metadata": {
    "collapsed": false
   }
  },
  {
   "cell_type": "markdown",
   "source": [
    "* 먼저 모델을 만든다.\n",
    "* 아이스크림 쇼핑 클릭량이 어떻게 변할지 예측해야 하기 때문에 회귀 모델을 만들어야 한다.\n",
    "* 이때 선형회귀의 수학 개념을 이용해 예측함수를 정의한다.\n",
    "* 비용 함수:\n",
    "  * 예측 함수가 좋은지 아닌지 판단해주는 함수.\n",
    "  * 평균제곱근 오차로 정의하고, 최적의 값을 찾기 위해 최소제곱법 알고리즘을 사용한다.\n",
    "\n",
    "```\n",
    "학습 데이터 구성 -> 예측 함수 정의 -> 비용 함수 적용\n",
    "-> 비용이 임계값 이하라면 학습 종료\n",
    "-> 비용이 임계값을 초과하면 다시 예측 함수를 정의\n",
    "```\n",
    "\n",
    "그리고 모델을 평가한다. 앞서 만든 모델을 이용해 문제를 해결하는 것.\n",
    "\n",
    "```\n",
    "평가 데이터 -> 학습 모델 적용 -> 예측 결과\n",
    "```\n",
    "\n",
    "### 3.3.5.1. 선형회귀 모델 이해\n",
    "\n",
    "* 선형회귀 - 좌표평면 위에 표현된 데이터 간의 관계를 대표할 수 있는 직선의 함수식을 찾는 것.\n",
    "* 선형회귀 모델 - 선형회귀를 통해 얻게 되는 일차식의 꼴을 갖는 함수 $f$.\n",
    "* 모든 점을 지나는 직선 $f$가 있다면 가장 이상적인 선형회귀 모델이 되겠지만, 현실적으로 불가능하다.\n",
    "\n",
    "### 3.3.5.2. 좋은 직선을 찾는 기준, 평균제곱근오차(RMSE, Root Mean Square Error)\n",
    "\n",
    "* 좋은 직선 = 좋은 선형회귀 모델.\n",
    "* 좋은 선형회귀 모델 $f$는 입력 변수에 따른 출력 변수의 예측값 $f(X)$가 실제 출력값 $Y$에 가장 가까운 값이 되도록 하는 모델.\n",
    "* 모든 점을 동시에 지나지는 않지만, 가장 근접하게 지나가는 직선을 찾으면 된다.\n",
    "* 단순히 오차의 합을 구하면 부호가 반대인 오차끼리 서로 상쇄되는 문제가 있다.\n",
    "* 그래서 평균제곱근오차를 사용한다, $\\sqrt{{1 \\over n} \\sum_{i=1}^n{\\{Y_i - f(X_i)\\}^2}}$\n",
    "* 이처럼 크기를 최소화 해야 하는 값에 대한 함수를 선형회귀 모델의 비용함수라고 한다.\n",
    "  * $\\text{Cost}(\\beta_0, \\beta_1) = \\sqrt{{1 \\over n} \\sum_{i=1}^n{\\{Y_i - f(X_i)\\}^2}}$\n",
    "  * $\\beta_0$는 선형회귀 모델 $f$의 y절편, $\\beta_1$은 선형회귀 모델 $f$의 기울기를 의미.\n",
    "  * 좋은 직선을 찾는 것은 $f$에 따른 예측값 $f(X)$와 실제 출력 값 $Y$의 평균제곱근오차가 최소가 되도록하는 두 수 $\\beta_0, \\beta_1$을 구하는 것이다.\n",
    "\n",
    "### 3.3.5.3. 최소의 평균제곱근오차를 찾는 방법, 최소제곱법(LSM)\n",
    "\n",
    "* 평균제곱근오차가 가장 작은 선형회귀 모델은 어떻게 찾을 수 있을까?\n",
    "* 증가함수의 성질:\n",
    "  * 임의의 두 실수 $x_1, x_2$에 대해 $x_1 \\lt x_2$일 때, $f(x_1) \\lt f(x_2)$이면 $f(x)$는 증가함수다.\n",
    "  * 따라서 $f(x)$가 증가함수일 때, $m \\leq x \\leq M$이면 $f(m) \\leq f(x) \\leq f(M)$이다.\n",
    "  * $y = \\sqrt({1 \\over 4} x)$는 증가함수이므로, $y$가 최소이려면 $x$가 최소이어야 한다.\n",
    "* 따라서 평균제곱근오차가 최소려면 $\\text{error}^2$들의 합이 최소가 되어야 한다.\n",
    "  * 이러한 선형회귀 모델을 찾으면 된다.\n",
    "  * 이렇게 데이터 사이의 $\\text{error}^2$들의 합을 최소화하여 평균제곱근오차를 최소화하고, 실제 데이터의 분포를 가장 잘 나타내는 선형회귀 모델을 구하는 방법을 최소제곱법이라고 한다."
   ],
   "metadata": {
    "collapsed": false,
    "pycharm": {
     "name": "#%% md\n"
    }
   }
  },
  {
   "cell_type": "code",
   "execution_count": 13,
   "outputs": [
    {
     "name": "stdout",
     "output_type": "stream",
     "text": [
      "           날짜  평균기온(℃)  최저기온(℃)  최고기온(℃)  아이스크림/빙수\n",
      "0  2019-01-01     -2.1     -5.8      2.1        27\n",
      "1  2019-01-02     -2.5     -7.0      3.2        27\n",
      "2  2019-01-03     -2.1     -7.7      5.0        25\n",
      "3  2019-01-04     -0.7     -7.3      5.3        25\n",
      "4  2019-01-05      0.2     -4.6      5.3        26\n"
     ]
    }
   ],
   "source": [
    "import pandas as pd\n",
    "\n",
    "df = pd.read_csv('temp_ice.csv', encoding = 'euc-kr')\n",
    "print(df.head(5))"
   ],
   "metadata": {
    "collapsed": false,
    "pycharm": {
     "name": "#%%\n"
    }
   }
  },
  {
   "cell_type": "code",
   "execution_count": 15,
   "outputs": [
    {
     "name": "stdout",
     "output_type": "stream",
     "text": [
      "[-2.1 -2.5 -2.1 -0.7 0.2 -1.3 -0.5 -0.7 -2.9 0.5 2.1 3.0 1.3 1.0 0.9 -3.2\n",
      " 0.4 0.8 2.9 1.6 0.5 2.6 3.1 0.7 -0.4 -1.8 -0.2 2.6 0.0 3.5 0.3 -1.3 2.1\n",
      " 5.6 2.5 2.9 5.6 2.1 -2.0 -1.7 -1.4 -0.8 0.1 0.3 0.6 2.0 -0.3 -0.2 2.2 2.9\n",
      " 2.8 2.7 3.9 5.0 6.1 6.0 5.4 7.1 6.8 6.0 6.9 8.7 8.8 8.2 8.8 6.5 6.1 7.9\n",
      " 7.8 6.4 5.8 3.9 5.2 5.8 5.8 6.6 7.5 10.7 11.4 9.8 5.2 4.2 4.7 7.2 10.5\n",
      " 12.8 10.6 10.6 7.2 5.4 5.7 6.7 7.4 9.9 11.7 11.6 12.5 11.8 9.3 7.2 8.8\n",
      " 10.7 11.6 10.2 11.1 14.2 15.5 15.3 12.8 14.7 16.5 17.6 16.8 17.3 13.5 9.4\n",
      " 11.4 12.1 11.3 14.6 15.4 16.0 16.7 17.6 18.9 14.0 13.9 15.7 17.1 17.6\n",
      " 18.5 18.4 17.9 19.8 20.3 21.4 21.3 18.8 19.5 17.0 17.0 19.2 20.9 22.9\n",
      " 23.3 23.2 18.6 17.8 19.7 20.5 18.6 18.9 20.6 22.0 23.1 22.9 21.1 18.6\n",
      " 20.1 19.7 18.3 18.8 19.7 21.2 20.2 20.4 20.2 21.3 21.3 22.2 23.4 22.8\n",
      " 21.7 21.6 22.5 23.6 21.1 23.8 23.6 21.6 23.8 23.2 23.4 23.1 24.4 25.1\n",
      " 25.1 23.5 22.6 22.6 20.9 22.2 23.2 23.3 23.9 23.2 23.8 24.4 24.3 25.2\n",
      " 24.8 24.8 27.0 27.9 26.8 26.6 26.5 27.1 26.9 27.8 28.4 28.4 28.4 28.8\n",
      " 28.3 28.4 28.8 27.6 27.2 27.6 28.3 28.6 28.3 27.7 28.5 28.6 26.1 26.4\n",
      " 26.2 25.3 25.1 26.0 25.8 25.8 24.7 22.8 23.2 24.3 22.7 23.8 22.4 22.9\n",
      " 22.6 22.1 21.6 22.1 23.4 24.2 25.4 25.8 24.6 24.7 25.4 23.9 20.8 21.7\n",
      " 22.3 23.4 22.4 21.3 21.0 19.2 19.3 17.8 17.5 18.1 17.8 18.4 20.4 21.4\n",
      " 22.5 22.2 21.6 21.5 21.1 22.0 21.2 18.9 17.3 15.5 15.9 13.3 14.9 17.9\n",
      " 18.0 15.9 14.7 13.3 13.3 14.0 15.3 16.2 15.1 15.3 15.9 16.0 17.4 16.9\n",
      " 12.8 10.7 11.5 13.2 11.3 13.3 14.3 13.5 13.8 12.5 11.7 11.3 10.8 7.8 8.5\n",
      " 9.4 12.1 9.7 8.9 3.7 7.2 10.3 11.0 8.7 3.7 2.6 5.0 9.3 10.8 12.8 5.9 7.7\n",
      " 6.2 4.7 3.4 5.4 6.3 3.6 2.4 4.2 0.2 -3.2 0.1 1.4 3.0 6.5 6.9 1.7 1.6 4.0\n",
      " 4.7 7.1 8.3 4.6 2.2 1.0 0.2 3.0 3.8 2.1 3.5 3.7 0.6 0.5 2.6 5.0 -3.8]\n",
      "[27 27 25 25 26 30 29 28 27 27 27 25 30 31 34 33 29 26 26 32 33 31 32 28\n",
      " 25 24 29 30 27 24 21 20 21 21 22 22 28 33 32 31 34 34 30 27 26 23 26 31\n",
      " 32 31 28 28 29 30 32 32 29 28 28 27 28 31 28 27 31 25 24 28 33 30 28 29\n",
      " 28 23 24 27 28 28 31 28 25 26 32 34 35 31 31 24 26 32 31 32 32 32 27 27\n",
      " 32 34 33 32 31 29 27 37 38 37 36 36 31 29 35 47 43 44 42 35 31 37 44 41\n",
      " 56 46 39 35 37 47 52 51 51 48 54 77 81 87 90 100 72 67 77 76 75 89 96 75\n",
      " 67 84 99 91 86 77 60 63 78 95 88 73 81 69 67 75 80 79 75 71 66 57 68 78\n",
      " 76 68 67 63 56 66 81 79 67 64 54 52 64 70 83 75 69 61 57 68 75 68 66 63\n",
      " 55 53 62 69 66 65 62 61 57 61 73 77 69 74 63 52 57 65 65 61 66 56 54 64\n",
      " 72 75 69 69 61 49 56 62 60 53 49 53 41 50 55 53 47 47 41 37 44 45 43 47\n",
      " 40 34 32 41 42 39 35 36 36 33 37 35 26 22 23 28 29 38 39 38 36 32 28 29\n",
      " 35 33 34 32 31 27 28 35 36 34 32 35 31 27 33 32 30 32 29 28 28 33 31 32\n",
      " 32 29 27 28 31 34 32 32 32 25 24 30 33 29 28 25 23 25 32 31 30 32 27 22\n",
      " 22 29 27 28 29 24 21 21 29 29 29 30 27 26 25 32 30 31 30 28 24 24 31 33\n",
      " 30 28 26 24 25 39 33 30 30 30 28 30 35 35 35 33 31 25 25 31 29 22 24 26\n",
      " 24 25 29 28 22]\n"
     ]
    }
   ],
   "source": [
    "import numpy as np\n",
    "\n",
    "data = np.array(df)\n",
    "X = data[:, 1]\n",
    "Y = data[:, -1]\n",
    "\n",
    "print(X)\n",
    "print(Y)"
   ],
   "metadata": {
    "collapsed": false,
    "pycharm": {
     "name": "#%%\n"
    }
   }
  },
  {
   "cell_type": "markdown",
   "source": [
    "기울기 $\\beta_1$을 최소제곱법으로 구하기:\n",
    "\n",
    "$\\beta_1 = {{\\sum_{i=1}^n(X_i - \\bar{X})(Y_i - \\bar{Y})} \\over {\\sum_{i = 1}^n (X_i - \\bar{X})^2}}$\n",
    "\n",
    "y절편인 $\\beta_0$은 다음과 같이 구한다:\n",
    "\n",
    "$\\beta_0 = \\bar{Y} - \\beta_1 \\bar{X}$"
   ],
   "metadata": {
    "collapsed": false,
    "pycharm": {
     "name": "#%% md\n"
    }
   }
  },
  {
   "cell_type": "code",
   "execution_count": 17,
   "outputs": [
    {
     "name": "stdout",
     "output_type": "stream",
     "text": [
      "Beta1: 1.3695501118896156\n",
      "Beta0: 22.845160616391098\n"
     ]
    }
   ],
   "source": [
    "mean_x = np.mean(X)\n",
    "mean_y = np.mean(Y)\n",
    "\n",
    "n = len(X)\n",
    "\n",
    "temp1 = 0\n",
    "temp2 = 0\n",
    "\n",
    "for i in range(n):\n",
    "    temp1 += (X[i] - mean_x) * (Y[i] - mean_y)\n",
    "    temp2 += (X[i] - mean_x) ** 2\n",
    "\n",
    "beta1 = temp1 / temp2\n",
    "beta0 = mean_y - (beta1 * mean_x)\n",
    "\n",
    "print('Beta1:', beta1)\n",
    "print('Beta0:', beta0)"
   ],
   "metadata": {
    "collapsed": false,
    "pycharm": {
     "name": "#%%\n"
    }
   }
  },
  {
   "cell_type": "code",
   "execution_count": 18,
   "outputs": [
    {
     "data": {
      "text/plain": "<Figure size 432x288 with 1 Axes>",
      "image/png": "[encoded data removed]"
     },
     "metadata": {
      "needs_background": "light"
     },
     "output_type": "display_data"
    }
   ],
   "source": [
    "Y_pred = beta0 + beta1 * X\n",
    "\n",
    "plt.title('Avg temp & clicks')\n",
    "plt.xlabel('Avg temperature(C)')\n",
    "plt.ylabel('Clicks')\n",
    "plt.plot(X, Y, 'k.')\n",
    "plt.plot(X, Y_pred, color='red')\n",
    "plt.axis([-4, 30, 20, 100])\n",
    "plt.grid()\n",
    "plt.show()"
   ],
   "metadata": {
    "collapsed": false,
    "pycharm": {
     "name": "#%%\n"
    }
   }
  },
  {
   "cell_type": "markdown",
   "source": [
    "$\\text{RMSE} = \\sqrt{\\text{sum of }(\\text{error})^2} = \\sqrt{{1 \\over n} \\sum_{i = 1}^n \\{Y_i - f(X_i)\\}^2}$"
   ],
   "metadata": {
    "collapsed": false,
    "pycharm": {
     "name": "#%% md\n"
    }
   }
  },
  {
   "cell_type": "code",
   "execution_count": 19,
   "outputs": [
    {
     "name": "stdout",
     "output_type": "stream",
     "text": [
      "13.932934996027768\n"
     ]
    }
   ],
   "source": [
    "def RMSE(b0, b1, x, y):\n",
    "    return np.sqrt(((y - (b0 + b1 *x)) ** 2).mean())\n",
    "\n",
    "print(RMSE(beta0, beta1, X, Y))"
   ],
   "metadata": {
    "collapsed": false,
    "pycharm": {
     "name": "#%%\n"
    }
   }
  },
  {
   "cell_type": "markdown",
   "source": [
    "손실값은 13 정도였다.\n",
    "평균 기온이 주어졌을 때 아이스크림 쇼핑 클릭량을 예측해보자."
   ],
   "metadata": {
    "collapsed": false,
    "pycharm": {
     "name": "#%% md\n"
    }
   }
  },
  {
   "cell_type": "code",
   "execution_count": 20,
   "outputs": [
    {
     "name": "stdout",
     "output_type": "stream",
     "text": [
      "63.931663973079566\n"
     ]
    }
   ],
   "source": [
    "def regression(b0, b1, x):\n",
    "    return b0 + b1 * x\n",
    "\n",
    "my_temp = float(input('Avg temp: '))\n",
    "predicted_value = regression(beta0, beta1, my_temp)\n",
    "print(predicted_value)"
   ],
   "metadata": {
    "collapsed": false,
    "pycharm": {
     "name": "#%%\n"
    }
   }
  }
 ],
 "metadata": {
  "kernelspec": {
   "display_name": "Python 3",
   "language": "python",
   "name": "python3"
  },
  "language_info": {
   "codemirror_mode": {
    "name": "ipython",
    "version": 2
   },
   "file_extension": ".py",
   "mimetype": "text/x-python",
   "name": "python",
   "nbconvert_exporter": "python",
   "pygments_lexer": "ipython2",
   "version": "2.7.6"
  }
 },
 "nbformat": 4,
 "nbformat_minor": 0
}