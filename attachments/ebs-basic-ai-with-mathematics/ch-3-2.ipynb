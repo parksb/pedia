{
 "cells": [
  {
   "cell_type": "markdown",
   "metadata": {
    "collapsed": true,
    "pycharm": {
     "name": "#%% md\n"
    }
   },
   "source": [
    "# 3.2. 고흐가 그린 붓꽃은 어떤 종류일까"
   ]
  },
  {
   "cell_type": "markdown",
   "source": [
    "## 3.2.1. 데이터 수집하기"
   ],
   "metadata": {
    "collapsed": false
   }
  },
  {
   "cell_type": "code",
   "execution_count": 5,
   "outputs": [
    {
     "name": "stdout",
     "output_type": "stream",
     "text": [
      "['Id', 'SepalLengthCm', 'SepalWidthCm', 'PetalLengthCm', 'PetalWidthCm', 'Species']\n",
      "['1', '5.1', '3.5', '1.4', '0.2', 'Iris-setosa']\n",
      "['2', '4.9', '3.0', '1.4', '0.2', 'Iris-setosa']\n",
      "['3', '4.7', '3.2', '1.3', '0.2', 'Iris-setosa']\n",
      "['4', '4.6', '3.1', '1.5', '0.2', 'Iris-setosa']\n",
      "['5', '5.0', '3.6', '1.4', '0.2', 'Iris-setosa']\n",
      "['6', '5.4', '3.9', '1.7', '0.4', 'Iris-setosa']\n",
      "['7', '4.6', '3.4', '1.4', '0.3', 'Iris-setosa']\n",
      "['8', '5.0', '3.4', '1.5', '0.2', 'Iris-setosa']\n",
      "['9', '4.4', '2.9', '1.4', '0.2', 'Iris-setosa']\n",
      "['10', '4.9', '3.1', '1.5', '0.1', 'Iris-setosa']\n",
      "['11', '5.4', '3.7', '1.5', '0.2', 'Iris-setosa']\n",
      "['12', '4.8', '3.4', '1.6', '0.2', 'Iris-setosa']\n",
      "['13', '4.8', '3.0', '1.4', '0.1', 'Iris-setosa']\n",
      "['14', '4.3', '3.0', '1.1', '0.1', 'Iris-setosa']\n",
      "['15', '5.8', '4.0', '1.2', '0.2', 'Iris-setosa']\n",
      "['16', '5.7', '4.4', '1.5', '0.4', 'Iris-setosa']\n",
      "['17', '5.4', '3.9', '1.3', '0.4', 'Iris-setosa']\n",
      "['18', '5.1', '3.5', '1.4', '0.3', 'Iris-setosa']\n",
      "['19', '5.7', '3.8', '1.7', '0.3', 'Iris-setosa']\n",
      "['20', '5.1', '3.8', '1.5', '0.3', 'Iris-setosa']\n",
      "['21', '5.4', '3.4', '1.7', '0.2', 'Iris-setosa']\n",
      "['22', '5.1', '3.7', '1.5', '0.4', 'Iris-setosa']\n",
      "['23', '4.6', '3.6', '1.0', '0.2', 'Iris-setosa']\n",
      "['24', '5.1', '3.3', '1.7', '0.5', 'Iris-setosa']\n",
      "['25', '4.8', '3.4', '1.9', '0.2', 'Iris-setosa']\n",
      "['26', '5.0', '3.0', '1.6', '0.2', 'Iris-setosa']\n",
      "['27', '5.0', '3.4', '1.6', '0.4', 'Iris-setosa']\n",
      "['28', '5.2', '3.5', '1.5', '0.2', 'Iris-setosa']\n",
      "['29', '5.2', '3.4', '1.4', '0.2', 'Iris-setosa']\n",
      "['30', '4.7', '3.2', '1.6', '0.2', 'Iris-setosa']\n",
      "['31', '4.8', '3.1', '1.6', '0.2', 'Iris-setosa']\n",
      "['32', '5.4', '3.4', '1.5', '0.4', 'Iris-setosa']\n",
      "['33', '5.2', '4.1', '1.5', '0.1', 'Iris-setosa']\n",
      "['34', '5.5', '4.2', '1.4', '0.2', 'Iris-setosa']\n",
      "['35', '4.9', '3.1', '1.5', '0.1', 'Iris-setosa']\n",
      "['36', '5.0', '3.2', '1.2', '0.2', 'Iris-setosa']\n",
      "['37', '5.5', '3.5', '1.3', '0.2', 'Iris-setosa']\n",
      "['38', '4.9', '3.1', '1.5', '0.1', 'Iris-setosa']\n",
      "['39', '4.4', '3.0', '1.3', '0.2', 'Iris-setosa']\n",
      "['40', '5.1', '3.4', '1.5', '0.2', 'Iris-setosa']\n",
      "['41', '5.0', '3.5', '1.3', '0.3', 'Iris-setosa']\n",
      "['42', '4.5', '2.3', '1.3', '0.3', 'Iris-setosa']\n",
      "['43', '4.4', '3.2', '1.3', '0.2', 'Iris-setosa']\n",
      "['44', '5.0', '3.5', '1.6', '0.6', 'Iris-setosa']\n",
      "['45', '5.1', '3.8', '1.9', '0.4', 'Iris-setosa']\n",
      "['46', '4.8', '3.0', '1.4', '0.3', 'Iris-setosa']\n",
      "['47', '5.1', '3.8', '1.6', '0.2', 'Iris-setosa']\n",
      "['48', '4.6', '3.2', '1.4', '0.2', 'Iris-setosa']\n",
      "['49', '5.3', '3.7', '1.5', '0.2', 'Iris-setosa']\n",
      "['50', '5.0', '3.3', '1.4', '0.2', 'Iris-setosa']\n",
      "['51', '7.0', '3.2', '4.7', '1.4', 'Iris-versicolor']\n",
      "['52', '6.4', '3.2', '4.5', '1.5', 'Iris-versicolor']\n",
      "['53', '6.9', '3.1', '4.9', '1.5', 'Iris-versicolor']\n",
      "['54', '5.5', '2.3', '4.0', '1.3', 'Iris-versicolor']\n",
      "['55', '6.5', '2.8', '4.6', '1.5', 'Iris-versicolor']\n",
      "['56', '5.7', '2.8', '4.5', '1.3', 'Iris-versicolor']\n",
      "['57', '6.3', '3.3', '4.7', '1.6', 'Iris-versicolor']\n",
      "['58', '4.9', '2.4', '3.3', '1.0', 'Iris-versicolor']\n",
      "['59', '6.6', '2.9', '4.6', '1.3', 'Iris-versicolor']\n",
      "['60', '5.2', '2.7', '3.9', '1.4', 'Iris-versicolor']\n",
      "['61', '5.0', '2.0', '3.5', '1.0', 'Iris-versicolor']\n",
      "['62', '5.9', '3.0', '4.2', '1.5', 'Iris-versicolor']\n",
      "['63', '6.0', '2.2', '4.0', '1.0', 'Iris-versicolor']\n",
      "['64', '6.1', '2.9', '4.7', '1.4', 'Iris-versicolor']\n",
      "['65', '5.6', '2.9', '3.6', '1.3', 'Iris-versicolor']\n",
      "['66', '6.7', '3.1', '4.4', '1.4', 'Iris-versicolor']\n",
      "['67', '5.6', '3.0', '4.5', '1.5', 'Iris-versicolor']\n",
      "['68', '5.8', '2.7', '4.1', '1.0', 'Iris-versicolor']\n",
      "['69', '6.2', '2.2', '4.5', '1.5', 'Iris-versicolor']\n",
      "['70', '5.6', '2.5', '3.9', '1.1', 'Iris-versicolor']\n",
      "['71', '5.9', '3.2', '4.8', '1.8', 'Iris-versicolor']\n",
      "['72', '6.1', '2.8', '4.0', '1.3', 'Iris-versicolor']\n",
      "['73', '6.3', '2.5', '4.9', '1.5', 'Iris-versicolor']\n",
      "['74', '6.1', '2.8', '4.7', '1.2', 'Iris-versicolor']\n",
      "['75', '6.4', '2.9', '4.3', '1.3', 'Iris-versicolor']\n",
      "['76', '6.6', '3.0', '4.4', '1.4', 'Iris-versicolor']\n",
      "['77', '6.8', '2.8', '4.8', '1.4', 'Iris-versicolor']\n",
      "['78', '6.7', '3.0', '5.0', '1.7', 'Iris-versicolor']\n",
      "['79', '6.0', '2.9', '4.5', '1.5', 'Iris-versicolor']\n",
      "['80', '5.7', '2.6', '3.5', '1.0', 'Iris-versicolor']\n",
      "['81', '5.5', '2.4', '3.8', '1.1', 'Iris-versicolor']\n",
      "['82', '5.5', '2.4', '3.7', '1.0', 'Iris-versicolor']\n",
      "['83', '5.8', '2.7', '3.9', '1.2', 'Iris-versicolor']\n",
      "['84', '6.0', '2.7', '5.1', '1.6', 'Iris-versicolor']\n",
      "['85', '5.4', '3.0', '4.5', '1.5', 'Iris-versicolor']\n",
      "['86', '6.0', '3.4', '4.5', '1.6', 'Iris-versicolor']\n",
      "['87', '6.7', '3.1', '4.7', '1.5', 'Iris-versicolor']\n",
      "['88', '6.3', '2.3', '4.4', '1.3', 'Iris-versicolor']\n",
      "['89', '5.6', '3.0', '4.1', '1.3', 'Iris-versicolor']\n",
      "['90', '5.5', '2.5', '4.0', '1.3', 'Iris-versicolor']\n",
      "['91', '5.5', '2.6', '4.4', '1.2', 'Iris-versicolor']\n",
      "['92', '6.1', '3.0', '4.6', '1.4', 'Iris-versicolor']\n",
      "['93', '5.8', '2.6', '4.0', '1.2', 'Iris-versicolor']\n",
      "['94', '5.0', '2.3', '3.3', '1.0', 'Iris-versicolor']\n",
      "['95', '5.6', '2.7', '4.2', '1.3', 'Iris-versicolor']\n",
      "['96', '5.7', '3.0', '4.2', '1.2', 'Iris-versicolor']\n",
      "['97', '5.7', '2.9', '4.2', '1.3', 'Iris-versicolor']\n",
      "['98', '6.2', '2.9', '4.3', '1.3', 'Iris-versicolor']\n",
      "['99', '5.1', '2.5', '3.0', '1.1', 'Iris-versicolor']\n",
      "['100', '5.7', '2.8', '4.1', '1.3', 'Iris-versicolor']\n",
      "['101', '6.3', '3.3', '6.0', '2.5', 'Iris-virginica']\n",
      "['102', '5.8', '2.7', '5.1', '1.9', 'Iris-virginica']\n",
      "['103', '7.1', '3.0', '5.9', '2.1', 'Iris-virginica']\n",
      "['104', '6.3', '2.9', '5.6', '1.8', 'Iris-virginica']\n",
      "['105', '6.5', '3.0', '5.8', '2.2', 'Iris-virginica']\n",
      "['106', '7.6', '3.0', '6.6', '2.1', 'Iris-virginica']\n",
      "['107', '4.9', '2.5', '4.5', '1.7', 'Iris-virginica']\n",
      "['108', '7.3', '2.9', '6.3', '1.8', 'Iris-virginica']\n",
      "['109', '6.7', '2.5', '5.8', '1.8', 'Iris-virginica']\n",
      "['110', '7.2', '3.6', '6.1', '2.5', 'Iris-virginica']\n",
      "['111', '6.5', '3.2', '5.1', '2.0', 'Iris-virginica']\n",
      "['112', '6.4', '2.7', '5.3', '1.9', 'Iris-virginica']\n",
      "['113', '6.8', '3.0', '5.5', '2.1', 'Iris-virginica']\n",
      "['114', '5.7', '2.5', '5.0', '2.0', 'Iris-virginica']\n",
      "['115', '5.8', '2.8', '5.1', '2.4', 'Iris-virginica']\n",
      "['116', '6.4', '3.2', '5.3', '2.3', 'Iris-virginica']\n",
      "['117', '6.5', '3.0', '5.5', '1.8', 'Iris-virginica']\n",
      "['118', '7.7', '3.8', '6.7', '2.2', 'Iris-virginica']\n",
      "['119', '7.7', '2.6', '6.9', '2.3', 'Iris-virginica']\n",
      "['120', '6.0', '2.2', '5.0', '1.5', 'Iris-virginica']\n",
      "['121', '6.9', '3.2', '5.7', '2.3', 'Iris-virginica']\n",
      "['122', '5.6', '2.8', '4.9', '2.0', 'Iris-virginica']\n",
      "['123', '7.7', '2.8', '6.7', '2.0', 'Iris-virginica']\n",
      "['124', '6.3', '2.7', '4.9', '1.8', 'Iris-virginica']\n",
      "['125', '6.7', '3.3', '5.7', '2.1', 'Iris-virginica']\n",
      "['126', '7.2', '3.2', '6.0', '1.8', 'Iris-virginica']\n",
      "['127', '6.2', '2.8', '4.8', '1.8', 'Iris-virginica']\n",
      "['128', '6.1', '3.0', '4.9', '1.8', 'Iris-virginica']\n",
      "['129', '6.4', '2.8', '5.6', '2.1', 'Iris-virginica']\n",
      "['130', '7.2', '3.0', '5.8', '1.6', 'Iris-virginica']\n",
      "['131', '7.4', '2.8', '6.1', '1.9', 'Iris-virginica']\n",
      "['132', '7.9', '3.8', '6.4', '2.0', 'Iris-virginica']\n",
      "['133', '6.4', '2.8', '5.6', '2.2', 'Iris-virginica']\n",
      "['134', '6.3', '2.8', '5.1', '1.5', 'Iris-virginica']\n",
      "['135', '6.1', '2.6', '5.6', '1.4', 'Iris-virginica']\n",
      "['136', '7.7', '3.0', '6.1', '2.3', 'Iris-virginica']\n",
      "['137', '6.3', '3.4', '5.6', '2.4', 'Iris-virginica']\n",
      "['138', '6.4', '3.1', '5.5', '1.8', 'Iris-virginica']\n",
      "['139', '6.0', '3.0', '4.8', '1.8', 'Iris-virginica']\n",
      "['140', '6.9', '3.1', '5.4', '2.1', 'Iris-virginica']\n",
      "['141', '6.7', '3.1', '5.6', '2.4', 'Iris-virginica']\n",
      "['142', '6.9', '3.1', '5.1', '2.3', 'Iris-virginica']\n",
      "['143', '5.8', '2.7', '5.1', '1.9', 'Iris-virginica']\n",
      "['144', '6.8', '3.2', '5.9', '2.3', 'Iris-virginica']\n",
      "['145', '6.7', '3.3', '5.7', '2.5', 'Iris-virginica']\n",
      "['146', '6.7', '3.0', '5.2', '2.3', 'Iris-virginica']\n",
      "['147', '6.3', '2.5', '5.0', '1.9', 'Iris-virginica']\n",
      "['148', '6.5', '3.0', '5.2', '2.0', 'Iris-virginica']\n",
      "['149', '6.2', '3.4', '5.4', '2.3', 'Iris-virginica']\n",
      "['150', '5.9', '3.0', '5.1', '1.8', 'Iris-virginica']\n"
     ]
    }
   ],
   "source": [
    "import csv\n",
    "\n",
    "f = open('iris.csv')\n",
    "data = csv.reader(f)\n",
    "header = next(data)\n",
    "result = []\n",
    "\n",
    "print(header)\n",
    "for row in data:\n",
    "    result.append(row)\n",
    "    print(row)"
   ],
   "metadata": {
    "collapsed": false,
    "pycharm": {
     "name": "#%%\n"
    }
   }
  },
  {
   "cell_type": "code",
   "execution_count": 6,
   "outputs": [
    {
     "name": "stdout",
     "output_type": "stream",
     "text": [
      "['1', 5.1, 3.5, 1.4, 0.2, 'Iris-setosa']\n",
      "['2', 4.9, 3.0, 1.4, 0.2, 'Iris-setosa']\n",
      "['3', 4.7, 3.2, 1.3, 0.2, 'Iris-setosa']\n",
      "['4', 4.6, 3.1, 1.5, 0.2, 'Iris-setosa']\n",
      "['5', 5.0, 3.6, 1.4, 0.2, 'Iris-setosa']\n",
      "['6', 5.4, 3.9, 1.7, 0.4, 'Iris-setosa']\n",
      "['7', 4.6, 3.4, 1.4, 0.3, 'Iris-setosa']\n",
      "['8', 5.0, 3.4, 1.5, 0.2, 'Iris-setosa']\n",
      "['9', 4.4, 2.9, 1.4, 0.2, 'Iris-setosa']\n",
      "['10', 4.9, 3.1, 1.5, 0.1, 'Iris-setosa']\n",
      "['11', 5.4, 3.7, 1.5, 0.2, 'Iris-setosa']\n",
      "['12', 4.8, 3.4, 1.6, 0.2, 'Iris-setosa']\n",
      "['13', 4.8, 3.0, 1.4, 0.1, 'Iris-setosa']\n",
      "['14', 4.3, 3.0, 1.1, 0.1, 'Iris-setosa']\n",
      "['15', 5.8, 4.0, 1.2, 0.2, 'Iris-setosa']\n",
      "['16', 5.7, 4.4, 1.5, 0.4, 'Iris-setosa']\n",
      "['17', 5.4, 3.9, 1.3, 0.4, 'Iris-setosa']\n",
      "['18', 5.1, 3.5, 1.4, 0.3, 'Iris-setosa']\n",
      "['19', 5.7, 3.8, 1.7, 0.3, 'Iris-setosa']\n",
      "['20', 5.1, 3.8, 1.5, 0.3, 'Iris-setosa']\n",
      "['21', 5.4, 3.4, 1.7, 0.2, 'Iris-setosa']\n",
      "['22', 5.1, 3.7, 1.5, 0.4, 'Iris-setosa']\n",
      "['23', 4.6, 3.6, 1.0, 0.2, 'Iris-setosa']\n",
      "['24', 5.1, 3.3, 1.7, 0.5, 'Iris-setosa']\n",
      "['25', 4.8, 3.4, 1.9, 0.2, 'Iris-setosa']\n",
      "['26', 5.0, 3.0, 1.6, 0.2, 'Iris-setosa']\n",
      "['27', 5.0, 3.4, 1.6, 0.4, 'Iris-setosa']\n",
      "['28', 5.2, 3.5, 1.5, 0.2, 'Iris-setosa']\n",
      "['29', 5.2, 3.4, 1.4, 0.2, 'Iris-setosa']\n",
      "['30', 4.7, 3.2, 1.6, 0.2, 'Iris-setosa']\n",
      "['31', 4.8, 3.1, 1.6, 0.2, 'Iris-setosa']\n",
      "['32', 5.4, 3.4, 1.5, 0.4, 'Iris-setosa']\n",
      "['33', 5.2, 4.1, 1.5, 0.1, 'Iris-setosa']\n",
      "['34', 5.5, 4.2, 1.4, 0.2, 'Iris-setosa']\n",
      "['35', 4.9, 3.1, 1.5, 0.1, 'Iris-setosa']\n",
      "['36', 5.0, 3.2, 1.2, 0.2, 'Iris-setosa']\n",
      "['37', 5.5, 3.5, 1.3, 0.2, 'Iris-setosa']\n",
      "['38', 4.9, 3.1, 1.5, 0.1, 'Iris-setosa']\n",
      "['39', 4.4, 3.0, 1.3, 0.2, 'Iris-setosa']\n",
      "['40', 5.1, 3.4, 1.5, 0.2, 'Iris-setosa']\n",
      "['41', 5.0, 3.5, 1.3, 0.3, 'Iris-setosa']\n",
      "['42', 4.5, 2.3, 1.3, 0.3, 'Iris-setosa']\n",
      "['43', 4.4, 3.2, 1.3, 0.2, 'Iris-setosa']\n",
      "['44', 5.0, 3.5, 1.6, 0.6, 'Iris-setosa']\n",
      "['45', 5.1, 3.8, 1.9, 0.4, 'Iris-setosa']\n",
      "['46', 4.8, 3.0, 1.4, 0.3, 'Iris-setosa']\n",
      "['47', 5.1, 3.8, 1.6, 0.2, 'Iris-setosa']\n",
      "['48', 4.6, 3.2, 1.4, 0.2, 'Iris-setosa']\n",
      "['49', 5.3, 3.7, 1.5, 0.2, 'Iris-setosa']\n",
      "['50', 5.0, 3.3, 1.4, 0.2, 'Iris-setosa']\n",
      "['51', 7.0, 3.2, 4.7, 1.4, 'Iris-versicolor']\n",
      "['52', 6.4, 3.2, 4.5, 1.5, 'Iris-versicolor']\n",
      "['53', 6.9, 3.1, 4.9, 1.5, 'Iris-versicolor']\n",
      "['54', 5.5, 2.3, 4.0, 1.3, 'Iris-versicolor']\n",
      "['55', 6.5, 2.8, 4.6, 1.5, 'Iris-versicolor']\n",
      "['56', 5.7, 2.8, 4.5, 1.3, 'Iris-versicolor']\n",
      "['57', 6.3, 3.3, 4.7, 1.6, 'Iris-versicolor']\n",
      "['58', 4.9, 2.4, 3.3, 1.0, 'Iris-versicolor']\n",
      "['59', 6.6, 2.9, 4.6, 1.3, 'Iris-versicolor']\n",
      "['60', 5.2, 2.7, 3.9, 1.4, 'Iris-versicolor']\n",
      "['61', 5.0, 2.0, 3.5, 1.0, 'Iris-versicolor']\n",
      "['62', 5.9, 3.0, 4.2, 1.5, 'Iris-versicolor']\n",
      "['63', 6.0, 2.2, 4.0, 1.0, 'Iris-versicolor']\n",
      "['64', 6.1, 2.9, 4.7, 1.4, 'Iris-versicolor']\n",
      "['65', 5.6, 2.9, 3.6, 1.3, 'Iris-versicolor']\n",
      "['66', 6.7, 3.1, 4.4, 1.4, 'Iris-versicolor']\n",
      "['67', 5.6, 3.0, 4.5, 1.5, 'Iris-versicolor']\n",
      "['68', 5.8, 2.7, 4.1, 1.0, 'Iris-versicolor']\n",
      "['69', 6.2, 2.2, 4.5, 1.5, 'Iris-versicolor']\n",
      "['70', 5.6, 2.5, 3.9, 1.1, 'Iris-versicolor']\n",
      "['71', 5.9, 3.2, 4.8, 1.8, 'Iris-versicolor']\n",
      "['72', 6.1, 2.8, 4.0, 1.3, 'Iris-versicolor']\n",
      "['73', 6.3, 2.5, 4.9, 1.5, 'Iris-versicolor']\n",
      "['74', 6.1, 2.8, 4.7, 1.2, 'Iris-versicolor']\n",
      "['75', 6.4, 2.9, 4.3, 1.3, 'Iris-versicolor']\n",
      "['76', 6.6, 3.0, 4.4, 1.4, 'Iris-versicolor']\n",
      "['77', 6.8, 2.8, 4.8, 1.4, 'Iris-versicolor']\n",
      "['78', 6.7, 3.0, 5.0, 1.7, 'Iris-versicolor']\n",
      "['79', 6.0, 2.9, 4.5, 1.5, 'Iris-versicolor']\n",
      "['80', 5.7, 2.6, 3.5, 1.0, 'Iris-versicolor']\n",
      "['81', 5.5, 2.4, 3.8, 1.1, 'Iris-versicolor']\n",
      "['82', 5.5, 2.4, 3.7, 1.0, 'Iris-versicolor']\n",
      "['83', 5.8, 2.7, 3.9, 1.2, 'Iris-versicolor']\n",
      "['84', 6.0, 2.7, 5.1, 1.6, 'Iris-versicolor']\n",
      "['85', 5.4, 3.0, 4.5, 1.5, 'Iris-versicolor']\n",
      "['86', 6.0, 3.4, 4.5, 1.6, 'Iris-versicolor']\n",
      "['87', 6.7, 3.1, 4.7, 1.5, 'Iris-versicolor']\n",
      "['88', 6.3, 2.3, 4.4, 1.3, 'Iris-versicolor']\n",
      "['89', 5.6, 3.0, 4.1, 1.3, 'Iris-versicolor']\n",
      "['90', 5.5, 2.5, 4.0, 1.3, 'Iris-versicolor']\n",
      "['91', 5.5, 2.6, 4.4, 1.2, 'Iris-versicolor']\n",
      "['92', 6.1, 3.0, 4.6, 1.4, 'Iris-versicolor']\n",
      "['93', 5.8, 2.6, 4.0, 1.2, 'Iris-versicolor']\n",
      "['94', 5.0, 2.3, 3.3, 1.0, 'Iris-versicolor']\n",
      "['95', 5.6, 2.7, 4.2, 1.3, 'Iris-versicolor']\n",
      "['96', 5.7, 3.0, 4.2, 1.2, 'Iris-versicolor']\n",
      "['97', 5.7, 2.9, 4.2, 1.3, 'Iris-versicolor']\n",
      "['98', 6.2, 2.9, 4.3, 1.3, 'Iris-versicolor']\n",
      "['99', 5.1, 2.5, 3.0, 1.1, 'Iris-versicolor']\n",
      "['100', 5.7, 2.8, 4.1, 1.3, 'Iris-versicolor']\n",
      "['101', 6.3, 3.3, 6.0, 2.5, 'Iris-virginica']\n",
      "['102', 5.8, 2.7, 5.1, 1.9, 'Iris-virginica']\n",
      "['103', 7.1, 3.0, 5.9, 2.1, 'Iris-virginica']\n",
      "['104', 6.3, 2.9, 5.6, 1.8, 'Iris-virginica']\n",
      "['105', 6.5, 3.0, 5.8, 2.2, 'Iris-virginica']\n",
      "['106', 7.6, 3.0, 6.6, 2.1, 'Iris-virginica']\n",
      "['107', 4.9, 2.5, 4.5, 1.7, 'Iris-virginica']\n",
      "['108', 7.3, 2.9, 6.3, 1.8, 'Iris-virginica']\n",
      "['109', 6.7, 2.5, 5.8, 1.8, 'Iris-virginica']\n",
      "['110', 7.2, 3.6, 6.1, 2.5, 'Iris-virginica']\n",
      "['111', 6.5, 3.2, 5.1, 2.0, 'Iris-virginica']\n",
      "['112', 6.4, 2.7, 5.3, 1.9, 'Iris-virginica']\n",
      "['113', 6.8, 3.0, 5.5, 2.1, 'Iris-virginica']\n",
      "['114', 5.7, 2.5, 5.0, 2.0, 'Iris-virginica']\n",
      "['115', 5.8, 2.8, 5.1, 2.4, 'Iris-virginica']\n",
      "['116', 6.4, 3.2, 5.3, 2.3, 'Iris-virginica']\n",
      "['117', 6.5, 3.0, 5.5, 1.8, 'Iris-virginica']\n",
      "['118', 7.7, 3.8, 6.7, 2.2, 'Iris-virginica']\n",
      "['119', 7.7, 2.6, 6.9, 2.3, 'Iris-virginica']\n",
      "['120', 6.0, 2.2, 5.0, 1.5, 'Iris-virginica']\n",
      "['121', 6.9, 3.2, 5.7, 2.3, 'Iris-virginica']\n",
      "['122', 5.6, 2.8, 4.9, 2.0, 'Iris-virginica']\n",
      "['123', 7.7, 2.8, 6.7, 2.0, 'Iris-virginica']\n",
      "['124', 6.3, 2.7, 4.9, 1.8, 'Iris-virginica']\n",
      "['125', 6.7, 3.3, 5.7, 2.1, 'Iris-virginica']\n",
      "['126', 7.2, 3.2, 6.0, 1.8, 'Iris-virginica']\n",
      "['127', 6.2, 2.8, 4.8, 1.8, 'Iris-virginica']\n",
      "['128', 6.1, 3.0, 4.9, 1.8, 'Iris-virginica']\n",
      "['129', 6.4, 2.8, 5.6, 2.1, 'Iris-virginica']\n",
      "['130', 7.2, 3.0, 5.8, 1.6, 'Iris-virginica']\n",
      "['131', 7.4, 2.8, 6.1, 1.9, 'Iris-virginica']\n",
      "['132', 7.9, 3.8, 6.4, 2.0, 'Iris-virginica']\n",
      "['133', 6.4, 2.8, 5.6, 2.2, 'Iris-virginica']\n",
      "['134', 6.3, 2.8, 5.1, 1.5, 'Iris-virginica']\n",
      "['135', 6.1, 2.6, 5.6, 1.4, 'Iris-virginica']\n",
      "['136', 7.7, 3.0, 6.1, 2.3, 'Iris-virginica']\n",
      "['137', 6.3, 3.4, 5.6, 2.4, 'Iris-virginica']\n",
      "['138', 6.4, 3.1, 5.5, 1.8, 'Iris-virginica']\n",
      "['139', 6.0, 3.0, 4.8, 1.8, 'Iris-virginica']\n",
      "['140', 6.9, 3.1, 5.4, 2.1, 'Iris-virginica']\n",
      "['141', 6.7, 3.1, 5.6, 2.4, 'Iris-virginica']\n",
      "['142', 6.9, 3.1, 5.1, 2.3, 'Iris-virginica']\n",
      "['143', 5.8, 2.7, 5.1, 1.9, 'Iris-virginica']\n",
      "['144', 6.8, 3.2, 5.9, 2.3, 'Iris-virginica']\n",
      "['145', 6.7, 3.3, 5.7, 2.5, 'Iris-virginica']\n",
      "['146', 6.7, 3.0, 5.2, 2.3, 'Iris-virginica']\n",
      "['147', 6.3, 2.5, 5.0, 1.9, 'Iris-virginica']\n",
      "['148', 6.5, 3.0, 5.2, 2.0, 'Iris-virginica']\n",
      "['149', 6.2, 3.4, 5.4, 2.3, 'Iris-virginica']\n",
      "['150', 5.9, 3.0, 5.1, 1.8, 'Iris-virginica']\n"
     ]
    }
   ],
   "source": [
    "for i in result:\n",
    "    for j in range(1, 5):\n",
    "        i[j] = float(i[j])\n",
    "    print(i)"
   ],
   "metadata": {
    "collapsed": false,
    "pycharm": {
     "name": "#%%\n"
    }
   }
  },
  {
   "cell_type": "markdown",
   "source": [
    "## 3.2.2. 데이터 다루기"
   ],
   "metadata": {
    "collapsed": false,
    "pycharm": {
     "name": "#%% md\n"
    }
   }
  },
  {
   "cell_type": "markdown",
   "source": [
    "붓꽃 데이터를 종류별로 구분한다."
   ],
   "metadata": {
    "collapsed": false,
    "pycharm": {
     "name": "#%% md\n"
    }
   }
  },
  {
   "cell_type": "code",
   "execution_count": 9,
   "outputs": [
    {
     "name": "stdout",
     "output_type": "stream",
     "text": [
      "[['1', 5.1, 3.5, 1.4, 0.2], ['2', 4.9, 3.0, 1.4, 0.2], ['3', 4.7, 3.2, 1.3, 0.2], ['4', 4.6, 3.1, 1.5, 0.2], ['5', 5.0, 3.6, 1.4, 0.2], ['6', 5.4, 3.9, 1.7, 0.4], ['7', 4.6, 3.4, 1.4, 0.3], ['8', 5.0, 3.4, 1.5, 0.2], ['9', 4.4, 2.9, 1.4, 0.2], ['10', 4.9, 3.1, 1.5, 0.1], ['11', 5.4, 3.7, 1.5, 0.2], ['12', 4.8, 3.4, 1.6, 0.2], ['13', 4.8, 3.0, 1.4, 0.1], ['14', 4.3, 3.0, 1.1, 0.1], ['15', 5.8, 4.0, 1.2, 0.2], ['16', 5.7, 4.4, 1.5, 0.4], ['17', 5.4, 3.9, 1.3, 0.4], ['18', 5.1, 3.5, 1.4, 0.3], ['19', 5.7, 3.8, 1.7, 0.3], ['20', 5.1, 3.8, 1.5, 0.3], ['21', 5.4, 3.4, 1.7, 0.2], ['22', 5.1, 3.7, 1.5, 0.4], ['23', 4.6, 3.6, 1.0, 0.2], ['24', 5.1, 3.3, 1.7, 0.5], ['25', 4.8, 3.4, 1.9, 0.2], ['26', 5.0, 3.0, 1.6, 0.2], ['27', 5.0, 3.4, 1.6, 0.4], ['28', 5.2, 3.5, 1.5, 0.2], ['29', 5.2, 3.4, 1.4, 0.2], ['30', 4.7, 3.2, 1.6, 0.2], ['31', 4.8, 3.1, 1.6, 0.2], ['32', 5.4, 3.4, 1.5, 0.4], ['33', 5.2, 4.1, 1.5, 0.1], ['34', 5.5, 4.2, 1.4, 0.2], ['35', 4.9, 3.1, 1.5, 0.1], ['36', 5.0, 3.2, 1.2, 0.2], ['37', 5.5, 3.5, 1.3, 0.2], ['38', 4.9, 3.1, 1.5, 0.1], ['39', 4.4, 3.0, 1.3, 0.2], ['40', 5.1, 3.4, 1.5, 0.2], ['41', 5.0, 3.5, 1.3, 0.3], ['42', 4.5, 2.3, 1.3, 0.3], ['43', 4.4, 3.2, 1.3, 0.2], ['44', 5.0, 3.5, 1.6, 0.6], ['45', 5.1, 3.8, 1.9, 0.4], ['46', 4.8, 3.0, 1.4, 0.3], ['47', 5.1, 3.8, 1.6, 0.2], ['48', 4.6, 3.2, 1.4, 0.2], ['49', 5.3, 3.7, 1.5, 0.2], ['50', 5.0, 3.3, 1.4, 0.2]]\n"
     ]
    }
   ],
   "source": [
    "a = []\n",
    "b = []\n",
    "c = []\n",
    "\n",
    "for i in result:\n",
    "    if i[5] == 'Iris-setosa':\n",
    "        a.append(i[0:5])\n",
    "    if i[5] == 'Iris-versicolor':\n",
    "        b.append(i[0:5])\n",
    "    if i[5] == 'Iris-virginica':\n",
    "        c.append(i[0:5])\n",
    "\n",
    "print(a)"
   ],
   "metadata": {
    "collapsed": false,
    "pycharm": {
     "name": "#%%\n"
    }
   }
  },
  {
   "cell_type": "markdown",
   "source": [
    "iris-setosa의 꽃잎과 꽃받침 길이, 너비에 따른 평균을 구한다."
   ],
   "metadata": {
    "collapsed": false
   }
  },
  {
   "cell_type": "code",
   "execution_count": 10,
   "outputs": [
    {
     "name": "stdout",
     "output_type": "stream",
     "text": [
      "<iris-setosa의 특성별 평균>\n",
      "꽃받침 길이 평균:  5.006\n",
      "꽃받침 너비 평균:  3.418\n",
      "꽃잎 길이 평균:  1.464\n",
      "꽃잎 너비 평균:  0.244\n"
     ]
    }
   ],
   "source": [
    "sl = [] # 꽃받침 길이\n",
    "sw = [] # 꽃받침 너비\n",
    "pl = [] # 꽃잎 길이\n",
    "pw = [] # 꽃잎 너비\n",
    "\n",
    "for i in a:\n",
    "    sl.append(i[1])\n",
    "    sw.append(i[2])\n",
    "    pl.append(i[3])\n",
    "    pw.append(i[4])\n",
    "\n",
    "print('<iris-setosa의 특성별 평균>')\n",
    "print('꽃받침 길이 평균: ', round(sum(sl) / len(sl), 3))\n",
    "print('꽃받침 너비 평균: ', round(sum(sw) / len(sw), 3))\n",
    "print('꽃잎 길이 평균: ', round(sum(pl) / len(pl), 3))\n",
    "print('꽃잎 너비 평균: ', round(sum(pw) / len(pw), 3))"
   ],
   "metadata": {
    "collapsed": false,
    "pycharm": {
     "name": "#%%\n"
    }
   }
  },
  {
   "cell_type": "markdown",
   "source": [
    "iris-setosa의 꽃잎과 꽃받침 길이, 너비에 따른 중앙값을 구한다."
   ],
   "metadata": {
    "collapsed": false,
    "pycharm": {
     "name": "#%% md\n"
    }
   }
  },
  {
   "cell_type": "code",
   "execution_count": 11,
   "outputs": [
    {
     "name": "stdout",
     "output_type": "stream",
     "text": [
      "<iris-setosa의 특성별 중앙값>\n",
      "꽃받침 길이 중앙값:  5.0\n",
      "꽃받침 너비 중앙값:  3.4\n",
      "꽃잎 길이 중앙값:  1.5\n",
      "꽃잎 너비 중앙값:  0.2\n"
     ]
    }
   ],
   "source": [
    "sl.sort()\n",
    "sw.sort()\n",
    "pl.sort()\n",
    "pw.sort()\n",
    "m = int(len(a) / 2)\n",
    "\n",
    "print('<iris-setosa의 특성별 중앙값>')\n",
    "print('꽃받침 길이 중앙값: ', sl[m])\n",
    "print('꽃받침 너비 중앙값: ', sw[m])\n",
    "print('꽃잎 길이 중앙값: ', pl[m])\n",
    "print('꽃잎 너비 중앙값: ', pw[m])"
   ],
   "metadata": {
    "collapsed": false,
    "pycharm": {
     "name": "#%%\n"
    }
   }
  },
  {
   "cell_type": "markdown",
   "source": [
    "## 3.2.3. 데이터 시각화하기"
   ],
   "metadata": {
    "collapsed": false
   }
  },
  {
   "cell_type": "code",
   "execution_count": 14,
   "outputs": [
    {
     "name": "stdout",
     "output_type": "stream",
     "text": [
      "   Id  SepalLengthCm  SepalWidthCm  PetalLengthCm  PetalWidthCm      Species\n",
      "0   1            5.1           3.5            1.4           0.2  Iris-setosa\n",
      "1   2            4.9           3.0            1.4           0.2  Iris-setosa\n",
      "\n",
      "========================\n",
      "\n",
      "<class 'pandas.core.frame.DataFrame'>\n",
      "RangeIndex: 150 entries, 0 to 149\n",
      "Data columns (total 6 columns):\n",
      " #   Column         Non-Null Count  Dtype  \n",
      "---  ------         --------------  -----  \n",
      " 0   Id             150 non-null    int64  \n",
      " 1   SepalLengthCm  150 non-null    float64\n",
      " 2   SepalWidthCm   150 non-null    float64\n",
      " 3   PetalLengthCm  150 non-null    float64\n",
      " 4   PetalWidthCm   150 non-null    float64\n",
      " 5   Species        150 non-null    object \n",
      "dtypes: float64(4), int64(1), object(1)\n",
      "memory usage: 7.2+ KB\n",
      "None\n",
      "\n",
      "========================\n",
      "\n",
      "               Id  SepalLengthCm  SepalWidthCm  PetalLengthCm  PetalWidthCm\n",
      "count  150.000000     150.000000    150.000000     150.000000    150.000000\n",
      "mean    75.500000       5.843333      3.054000       3.758667      1.198667\n",
      "std     43.445368       0.828066      0.433594       1.764420      0.763161\n",
      "min      1.000000       4.300000      2.000000       1.000000      0.100000\n",
      "25%     38.250000       5.100000      2.800000       1.600000      0.300000\n",
      "50%     75.500000       5.800000      3.000000       4.350000      1.300000\n",
      "75%    112.750000       6.400000      3.300000       5.100000      1.800000\n",
      "max    150.000000       7.900000      4.400000       6.900000      2.500000\n"
     ]
    }
   ],
   "source": [
    "import pandas as pd\n",
    "\n",
    "iris = pd.read_csv('iris.csv')\n",
    "\n",
    "print(iris.head(2))\n",
    "print('\\n========================\\n')\n",
    "print(iris.info())\n",
    "print('\\n========================\\n')\n",
    "print(iris.describe())"
   ],
   "metadata": {
    "collapsed": false,
    "pycharm": {
     "name": "#%%\n"
    }
   }
  },
  {
   "cell_type": "markdown",
   "source": [
    "꽃받침 길이와 너비를 분산형 그래프로 시각화한다."
   ],
   "metadata": {
    "collapsed": false,
    "pycharm": {
     "name": "#%% md\n"
    }
   }
  },
  {
   "cell_type": "code",
   "execution_count": 19,
   "outputs": [
    {
     "data": {
      "text/plain": "<Figure size 720x432 with 1 Axes>",
      "image/png": "[encoded data removed]"
     },
     "metadata": {
      "needs_background": "light"
     },
     "output_type": "display_data"
    }
   ],
   "source": [
    "import matplotlib.pyplot as plt\n",
    "\n",
    "fig = iris[iris.Species == 'Iris-setosa'].plot(kind='scatter', x='SepalLengthCm', y='SepalWidthCm', color='orange', label='setosa')\n",
    "iris[iris.Species == 'Iris-versicolor'].plot(kind='scatter', x='SepalLengthCm', y='SepalWidthCm', color='blue', label='versicolor', ax=fig)\n",
    "iris[iris.Species == 'Iris-virginica'].plot(kind='scatter', x='SepalLengthCm', y='SepalWidthCm', color='magenta', label='virginica', ax=fig)\n",
    "\n",
    "fig.set_xlabel('Sepal Length')\n",
    "fig.set_ylabel('Sepal Width')\n",
    "fig.set_title('Sepal Length VS Width')\n",
    "fig = plt.gcf()\n",
    "fig.set_size_inches(10, 6)\n",
    "plt.show()"
   ],
   "metadata": {
    "collapsed": false,
    "pycharm": {
     "name": "#%%\n"
    }
   }
  },
  {
   "cell_type": "markdown",
   "source": [
    "같은 방식으로 꽃잎 길이와 너비를 분산형 그래프로 시각화한다."
   ],
   "metadata": {
    "collapsed": false
   }
  },
  {
   "cell_type": "code",
   "execution_count": 20,
   "outputs": [
    {
     "data": {
      "text/plain": "<Figure size 720x432 with 1 Axes>",
      "image/png": "[encoded data removed]"
     },
     "metadata": {
      "needs_background": "light"
     },
     "output_type": "display_data"
    }
   ],
   "source": [
    "import matplotlib.pyplot as plt\n",
    "\n",
    "fig = iris[iris.Species == 'Iris-setosa'].plot(kind='scatter', x='PetalLengthCm', y='PetalWidthCm', color='orange', label='setosa')\n",
    "iris[iris.Species == 'Iris-versicolor'].plot(kind='scatter', x='PetalLengthCm', y='PetalWidthCm', color='blue', label='versicolor', ax=fig)\n",
    "iris[iris.Species == 'Iris-virginica'].plot(kind='scatter', x='PetalLengthCm', y='PetalWidthCm', color='magenta', label='virginica', ax=fig)\n",
    "\n",
    "fig.set_xlabel('Petal Length')\n",
    "fig.set_ylabel('Petal Width')\n",
    "fig.set_title('Petal Length VS Width')\n",
    "fig = plt.gcf()\n",
    "fig.set_size_inches(10, 6)\n",
    "plt.show()"
   ],
   "metadata": {
    "collapsed": false,
    "pycharm": {
     "name": "#%%\n"
    }
   }
  },
  {
   "cell_type": "markdown",
   "source": [
    "분산형 그래프를 통해 세 종류의 붓꽃을 분류하는 데 꽃받침의 길이와 너비보다 꽃잎의 길이와 너비에 따라 분류하는 것이 더 쉬운 것을 확인했다.\n",
    "단순히 평균이나 중앙값을 구하는 것과 달리 시각화를 통해 두 데이터의 상관관계를 쉽게 찾을 수 있다."
   ],
   "metadata": {
    "collapsed": false,
    "pycharm": {
     "name": "#%% md\n"
    }
   }
  },
  {
   "cell_type": "markdown",
   "source": [
    "## 3.2.4. 학습하기"
   ],
   "metadata": {
    "collapsed": false
   }
  },
  {
   "cell_type": "markdown",
   "source": [
    "이제 붗꽃 분류기를 만들어보자.\n",
    "K-최근접 이웃(K-Nearest Neighbor, K-NN) 알고리즘을 사용한다.\n",
    "K-NN 알고리즘은 새로운 데이터가 들어왔을 때 특성 공간 내에서 가장 가까운 데이터의 레이블 값으로 분류하는 알고리즘이다.\n",
    "이때 K는 특성값 기준으로 가장 거리가 가까운 데이터의 개수를 의미한다."
   ],
   "metadata": {
    "collapsed": false,
    "pycharm": {
     "name": "#%% md\n"
    }
   }
  },
  {
   "cell_type": "code",
   "execution_count": 22,
   "outputs": [
    {
     "name": "stdout",
     "output_type": "stream",
     "text": [
      "[[5.1 3.5 1.4 0.2]\n",
      " [4.9 3.0 1.4 0.2]\n",
      " [4.7 3.2 1.3 0.2]\n",
      " [4.6 3.1 1.5 0.2]\n",
      " [5.0 3.6 1.4 0.2]\n",
      " [5.4 3.9 1.7 0.4]\n",
      " [4.6 3.4 1.4 0.3]\n",
      " [5.0 3.4 1.5 0.2]\n",
      " [4.4 2.9 1.4 0.2]\n",
      " [4.9 3.1 1.5 0.1]\n",
      " [5.4 3.7 1.5 0.2]\n",
      " [4.8 3.4 1.6 0.2]\n",
      " [4.8 3.0 1.4 0.1]\n",
      " [4.3 3.0 1.1 0.1]\n",
      " [5.8 4.0 1.2 0.2]\n",
      " [5.7 4.4 1.5 0.4]\n",
      " [5.4 3.9 1.3 0.4]\n",
      " [5.1 3.5 1.4 0.3]\n",
      " [5.7 3.8 1.7 0.3]\n",
      " [5.1 3.8 1.5 0.3]\n",
      " [5.4 3.4 1.7 0.2]\n",
      " [5.1 3.7 1.5 0.4]\n",
      " [4.6 3.6 1.0 0.2]\n",
      " [5.1 3.3 1.7 0.5]\n",
      " [4.8 3.4 1.9 0.2]\n",
      " [5.0 3.0 1.6 0.2]\n",
      " [5.0 3.4 1.6 0.4]\n",
      " [5.2 3.5 1.5 0.2]\n",
      " [5.2 3.4 1.4 0.2]\n",
      " [4.7 3.2 1.6 0.2]\n",
      " [4.8 3.1 1.6 0.2]\n",
      " [5.4 3.4 1.5 0.4]\n",
      " [5.2 4.1 1.5 0.1]\n",
      " [5.5 4.2 1.4 0.2]\n",
      " [4.9 3.1 1.5 0.1]\n",
      " [5.0 3.2 1.2 0.2]\n",
      " [5.5 3.5 1.3 0.2]\n",
      " [4.9 3.1 1.5 0.1]\n",
      " [4.4 3.0 1.3 0.2]\n",
      " [5.1 3.4 1.5 0.2]\n",
      " [5.0 3.5 1.3 0.3]\n",
      " [4.5 2.3 1.3 0.3]\n",
      " [4.4 3.2 1.3 0.2]\n",
      " [5.0 3.5 1.6 0.6]\n",
      " [5.1 3.8 1.9 0.4]\n",
      " [4.8 3.0 1.4 0.3]\n",
      " [5.1 3.8 1.6 0.2]\n",
      " [4.6 3.2 1.4 0.2]\n",
      " [5.3 3.7 1.5 0.2]\n",
      " [5.0 3.3 1.4 0.2]\n",
      " [7.0 3.2 4.7 1.4]\n",
      " [6.4 3.2 4.5 1.5]\n",
      " [6.9 3.1 4.9 1.5]\n",
      " [5.5 2.3 4.0 1.3]\n",
      " [6.5 2.8 4.6 1.5]\n",
      " [5.7 2.8 4.5 1.3]\n",
      " [6.3 3.3 4.7 1.6]\n",
      " [4.9 2.4 3.3 1.0]\n",
      " [6.6 2.9 4.6 1.3]\n",
      " [5.2 2.7 3.9 1.4]\n",
      " [5.0 2.0 3.5 1.0]\n",
      " [5.9 3.0 4.2 1.5]\n",
      " [6.0 2.2 4.0 1.0]\n",
      " [6.1 2.9 4.7 1.4]\n",
      " [5.6 2.9 3.6 1.3]\n",
      " [6.7 3.1 4.4 1.4]\n",
      " [5.6 3.0 4.5 1.5]\n",
      " [5.8 2.7 4.1 1.0]\n",
      " [6.2 2.2 4.5 1.5]\n",
      " [5.6 2.5 3.9 1.1]\n",
      " [5.9 3.2 4.8 1.8]\n",
      " [6.1 2.8 4.0 1.3]\n",
      " [6.3 2.5 4.9 1.5]\n",
      " [6.1 2.8 4.7 1.2]\n",
      " [6.4 2.9 4.3 1.3]\n",
      " [6.6 3.0 4.4 1.4]\n",
      " [6.8 2.8 4.8 1.4]\n",
      " [6.7 3.0 5.0 1.7]\n",
      " [6.0 2.9 4.5 1.5]\n",
      " [5.7 2.6 3.5 1.0]\n",
      " [5.5 2.4 3.8 1.1]\n",
      " [5.5 2.4 3.7 1.0]\n",
      " [5.8 2.7 3.9 1.2]\n",
      " [6.0 2.7 5.1 1.6]\n",
      " [5.4 3.0 4.5 1.5]\n",
      " [6.0 3.4 4.5 1.6]\n",
      " [6.7 3.1 4.7 1.5]\n",
      " [6.3 2.3 4.4 1.3]\n",
      " [5.6 3.0 4.1 1.3]\n",
      " [5.5 2.5 4.0 1.3]\n",
      " [5.5 2.6 4.4 1.2]\n",
      " [6.1 3.0 4.6 1.4]\n",
      " [5.8 2.6 4.0 1.2]\n",
      " [5.0 2.3 3.3 1.0]\n",
      " [5.6 2.7 4.2 1.3]\n",
      " [5.7 3.0 4.2 1.2]\n",
      " [5.7 2.9 4.2 1.3]\n",
      " [6.2 2.9 4.3 1.3]\n",
      " [5.1 2.5 3.0 1.1]\n",
      " [5.7 2.8 4.1 1.3]\n",
      " [6.3 3.3 6.0 2.5]\n",
      " [5.8 2.7 5.1 1.9]\n",
      " [7.1 3.0 5.9 2.1]\n",
      " [6.3 2.9 5.6 1.8]\n",
      " [6.5 3.0 5.8 2.2]\n",
      " [7.6 3.0 6.6 2.1]\n",
      " [4.9 2.5 4.5 1.7]\n",
      " [7.3 2.9 6.3 1.8]\n",
      " [6.7 2.5 5.8 1.8]\n",
      " [7.2 3.6 6.1 2.5]\n",
      " [6.5 3.2 5.1 2.0]\n",
      " [6.4 2.7 5.3 1.9]\n",
      " [6.8 3.0 5.5 2.1]\n",
      " [5.7 2.5 5.0 2.0]\n",
      " [5.8 2.8 5.1 2.4]\n",
      " [6.4 3.2 5.3 2.3]\n",
      " [6.5 3.0 5.5 1.8]\n",
      " [7.7 3.8 6.7 2.2]\n",
      " [7.7 2.6 6.9 2.3]\n",
      " [6.0 2.2 5.0 1.5]\n",
      " [6.9 3.2 5.7 2.3]\n",
      " [5.6 2.8 4.9 2.0]\n",
      " [7.7 2.8 6.7 2.0]\n",
      " [6.3 2.7 4.9 1.8]\n",
      " [6.7 3.3 5.7 2.1]\n",
      " [7.2 3.2 6.0 1.8]\n",
      " [6.2 2.8 4.8 1.8]\n",
      " [6.1 3.0 4.9 1.8]\n",
      " [6.4 2.8 5.6 2.1]\n",
      " [7.2 3.0 5.8 1.6]\n",
      " [7.4 2.8 6.1 1.9]\n",
      " [7.9 3.8 6.4 2.0]\n",
      " [6.4 2.8 5.6 2.2]\n",
      " [6.3 2.8 5.1 1.5]\n",
      " [6.1 2.6 5.6 1.4]\n",
      " [7.7 3.0 6.1 2.3]\n",
      " [6.3 3.4 5.6 2.4]\n",
      " [6.4 3.1 5.5 1.8]\n",
      " [6.0 3.0 4.8 1.8]\n",
      " [6.9 3.1 5.4 2.1]\n",
      " [6.7 3.1 5.6 2.4]\n",
      " [6.9 3.1 5.1 2.3]\n",
      " [5.8 2.7 5.1 1.9]\n",
      " [6.8 3.2 5.9 2.3]\n",
      " [6.7 3.3 5.7 2.5]\n",
      " [6.7 3.0 5.2 2.3]\n",
      " [6.3 2.5 5.0 1.9]\n",
      " [6.5 3.0 5.2 2.0]\n",
      " [6.2 3.4 5.4 2.3]\n",
      " [5.9 3.0 5.1 1.8]]\n"
     ]
    }
   ],
   "source": [
    "import numpy as np\n",
    "\n",
    "xy = np.array(iris)\n",
    "features = xy[:, 1:-1]\n",
    "target_value = xy[:, [-1]]\n",
    "\n",
    "print(features)"
   ],
   "metadata": {
    "collapsed": false,
    "pycharm": {
     "name": "#%%\n"
    }
   }
  },
  {
   "cell_type": "markdown",
   "source": [
    "유클리드 거리법으로 두 데이터 간의 거리를 구하는 함수를 만든다."
   ],
   "metadata": {
    "collapsed": false,
    "pycharm": {
     "name": "#%% md\n"
    }
   }
  },
  {
   "cell_type": "code",
   "execution_count": 23,
   "outputs": [
    {
     "name": "stdout",
     "output_type": "stream",
     "text": [
      "5.0\n"
     ]
    }
   ],
   "source": [
    "def distance(s, d):\n",
    "    return np.sqrt(np.sum(np.power((s - d), 2)))\n",
    "\n",
    "print(distance(5, 10))"
   ],
   "metadata": {
    "collapsed": false,
    "pycharm": {
     "name": "#%%\n"
    }
   }
  },
  {
   "cell_type": "markdown",
   "source": [
    "K-NN 알고리즘을 사용해 분류 함수를 만든다."
   ],
   "metadata": {
    "collapsed": false,
    "pycharm": {
     "name": "#%% md\n"
    }
   }
  },
  {
   "cell_type": "code",
   "execution_count": 25,
   "outputs": [
    {
     "name": "stdout",
     "output_type": "stream",
     "text": [
      "virginica\n",
      "virginica\n"
     ]
    }
   ],
   "source": [
    "def k_nn(unknown, feature_list, k):\n",
    "    distance_result = np.zeros(150)\n",
    "    for n in range(150):\n",
    "        distance_result[n] = distance(unknown, feature_list[n])\n",
    "\n",
    "    index = distance_result.argsort()\n",
    "\n",
    "    target_result = []\n",
    "    results = [0, 0, 0]\n",
    "    for n in range(k):\n",
    "        target_result.append(target_value[index[n]])\n",
    "        if target_result[n] == 'Iris-setosa':\n",
    "            results[0] += 1\n",
    "        if target_result[n] == 'Iris-versicolor':\n",
    "            results[1] += 1\n",
    "        else:\n",
    "            results[2] += 1\n",
    "\n",
    "    max_label = results.index(max(results))\n",
    "    species = { 0: 'setosa', 1: 'versicolor', 2: 'virginica' }\n",
    "    species_result = species[max_label]\n",
    "\n",
    "    return species_result\n",
    "\n",
    "result_1 = k_nn(features[149], features, 3)\n",
    "result_2 = k_nn(np.array([6, 2.9, 5, 2]), features, 3)\n",
    "\n",
    "print(result_1)\n",
    "print(result_2)"
   ],
   "metadata": {
    "collapsed": false,
    "pycharm": {
     "name": "#%%\n"
    }
   }
  },
  {
   "cell_type": "markdown",
   "source": [
    "이제 실제 고흐가 그린 붗꽃의 크기를 재고 분류해본다."
   ],
   "metadata": {
    "collapsed": false,
    "pycharm": {
     "name": "#%% md\n"
    }
   }
  },
  {
   "cell_type": "code",
   "execution_count": 26,
   "outputs": [
    {
     "name": "stdout",
     "output_type": "stream",
     "text": [
      "setosa setosa setosa\n"
     ]
    }
   ],
   "source": [
    "id_1 = np.array([2.7, 2.4, 1.65, 0.67])\n",
    "id_2 = np.array([5.84, 5.48, 3, 2.16])\n",
    "id_3 = np.array([3.97, 4.01, 1.7, 0.67])\n",
    "\n",
    "result_a = k_nn(id_1, features, 5)\n",
    "result_b = k_nn(id_2, features, 5)\n",
    "result_c = k_nn(id_3, features, 5)\n",
    "\n",
    "print(result_a, result_b, result_c)"
   ],
   "metadata": {
    "collapsed": false,
    "pycharm": {
     "name": "#%%\n"
    }
   }
  }
 ],
 "metadata": {
  "kernelspec": {
   "display_name": "Python 3",
   "language": "python",
   "name": "python3"
  },
  "language_info": {
   "codemirror_mode": {
    "name": "ipython",
    "version": 2
   },
   "file_extension": ".py",
   "mimetype": "text/x-python",
   "name": "python",
   "nbconvert_exporter": "python",
   "pygments_lexer": "ipython2",
   "version": "2.7.6"
  }
 },
 "nbformat": 4,
 "nbformat_minor": 0
}